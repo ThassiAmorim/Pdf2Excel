{
  "nbformat": 4,
  "nbformat_minor": 0,
  "metadata": {
    "colab": {
      "provenance": [],
      "mount_file_id": "1sdUL9lxHX-vIt2Gfu0Ix0CVVbkDLXKUi",
      "authorship_tag": "ABX9TyN3j1mKr8T+XeUoXXr8nW1M",
      "include_colab_link": true
    },
    "kernelspec": {
      "name": "python3",
      "display_name": "Python 3"
    },
    "language_info": {
      "name": "python"
    }
  },
  "cells": [
    {
      "cell_type": "markdown",
      "metadata": {
        "id": "view-in-github",
        "colab_type": "text"
      },
      "source": [
        "<a href=\"https://colab.research.google.com/github/ThassiAmorim/Pdf2Excel/blob/main/Pdf2Excel.ipynb\" target=\"_parent\"><img src=\"https://colab.research.google.com/assets/colab-badge.svg\" alt=\"Open In Colab\"/></a>"
      ]
    },
    {
      "cell_type": "code",
      "execution_count": null,
      "metadata": {
        "id": "hWwLYSAVAoTG"
      },
      "outputs": [],
      "source": [
        "\n",
        "!pip install PyMuPDF openpyxl pytesseract pillow\n",
        "! apt install libtesseract-dev\n",
        "!sudo apt install tesseract-ocr\n",
        "!sudo apt-get install tesseract-ocr-por\n",
        "import fitz  # PyMuPDF\n",
        "import openpyxl\n",
        "import pytesseract\n",
        "from PIL import Image\n",
        "import os\n",
        "import cv2\n",
        "\n",
        "\n",
        "# Montar o Google Drive\n",
        "from google.colab import drive\n",
        "drive.mount('/content/drive')\n",
        "\n",
        "# Caminho para o arquivo PDF\n",
        "pdf_path = 'seu_caminho'"
      ]
    },
    {
      "cell_type": "code",
      "source": [
        "from difflib import SequenceMatcher\n",
        "\n",
        "def calculate_similarity(str1, str2):\n",
        "    # Inicializar o objeto SequenceMatcher com as duas strings\n",
        "    sequence_matcher = SequenceMatcher(None, str1, str2)\n",
        "\n",
        "    # Calcular a similaridade como uma proporção entre as duas strings\n",
        "    similarity_ratio = sequence_matcher.ratio()\n",
        "\n",
        "    # Mapear a similaridade para uma escala de 0 a 10\n",
        "    similarity_score = round(similarity_ratio * 10, 2)\n",
        "\n",
        "    return similarity_score\n",
        "\n",
        "# Função para extrair texto de uma imagem usando OCR\n",
        "def extract_text_from_image(image_path):\n",
        "    image = Image.open(image_path)\n",
        "    text = pytesseract.image_to_string(image)\n",
        "    print(text)\n",
        "    return text\n",
        "\n",
        "# Função para extrair e converter imagens em texto\n",
        "def extract_images_and_convert_to_text(page):\n",
        "    text = \"\"\n",
        "    images = page.get_images(full=True)\n",
        "\n",
        "    for img_index, img in enumerate(images):\n",
        "        xref = img[0]\n",
        "        base_image = pdf_document.extract_image(xref)\n",
        "        image_bytes = base_image[\"image\"]\n",
        "\n",
        "        # Salvar a imagem em um arquivo temporário para que o pytesseract possa lê-la\n",
        "        image_path = f\"temp_image_{img_index}.png\"\n",
        "        with open(image_path, \"wb\") as image_file:\n",
        "            image_file.write(image_bytes)\n",
        "\n",
        "        # Usar pytesseract para converter a imagem em texto\n",
        "        extracted_text = pytesseract.image_to_string(image_path, lang='por')\n",
        "\n",
        "        # Adicionar o texto extraído à saída\n",
        "        text += f\"Imagem {img_index + 1} (Página {page_num + 1}):\\n{extracted_text}\\n\\n\"\n",
        "\n",
        "\n",
        "        # Remover o arquivo de imagem temporário\n",
        "        image_file.close()\n",
        "\n",
        "    return text\n",
        "\n",
        "# Função para extrair dados do texto\n",
        "def extract_data_from_text(text):\n",
        "    lines = text.split('\\n')\n",
        "    estabelecimento = \"\"\n",
        "    total = \"\"\n",
        "\n",
        "    for line in lines:\n",
        "        print(f\"-------------{line}---------------------\")\n",
        "        if \"Estabelecimento:\" in line:\n",
        "            estabelecimento = line.split(\"Estabelecimento:\")[1].strip()\n",
        "            partes = estabelecimento.split(\"EF\", 1)\n",
        "            estabelecimento = partes[0]\n",
        "        if calculate_similarity(\"VALOR TOTAL DA GUIA DE ENTREGA R$ \", line) > 8:\n",
        "            try:\n",
        "              total = line.split(\"R$ \")[1].strip()\n",
        "            except:\n",
        "              total = line.split(\"RS \")[1].strip()\n",
        "            if total[len(total)-1] == ']' or total[len(total)-1] == ')':\n",
        "              total = total[:-1]\n",
        "            #return ...\n",
        "\n",
        "    print(f\"-----------{estabelecimento} ------------- {total}\")\n",
        "\n",
        "    return estabelecimento, total\n",
        "\n",
        "# Abrir o PDF com PyMuPDF\n",
        "pdf_document = fitz.open(pdf_path)\n",
        "\n",
        "# Criar um novo arquivo Excel\n",
        "excel_path = 'caminho_para_salvar'\n",
        "workbook = openpyxl.Workbook()\n",
        "worksheet = workbook.active\n",
        "worksheet.title = \"Extrações\"\n",
        "worksheet.append([\"estabelecimento\", \"total\"])\n",
        "\n",
        "# Extrair dados das imagens e adicionar à planilha Excel\n",
        "for page_num in range(pdf_document.page_count):\n",
        "    page = pdf_document[page_num]\n",
        "\n",
        "    estabelecimento, total = extract_data_from_text(extract_images_and_convert_to_text(page))\n",
        "    worksheet.append([estabelecimento, total])\n",
        "\n",
        "# Salvar o arquivo Excel\n",
        "workbook.save(excel_path)\n",
        "\n",
        "# Fechar o documento PDF\n",
        "#pdf_document.close()\n",
        "\n",
        "print(\"Extração e criação do Excel concluídas!\")"
      ],
      "metadata": {
        "id": "ixkzdUl0MGc5"
      },
      "execution_count": null,
      "outputs": []
    },
    {
      "cell_type": "code",
      "source": [],
      "metadata": {
        "id": "japRwVw_guWS"
      },
      "execution_count": null,
      "outputs": []
    }
  ]
}