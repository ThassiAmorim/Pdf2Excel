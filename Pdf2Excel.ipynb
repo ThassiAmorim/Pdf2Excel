{
  "nbformat": 4,
  "nbformat_minor": 0,
  "metadata": {
    "colab": {
      "provenance": [],
      "include_colab_link": true
    },
    "kernelspec": {
      "name": "python3",
      "display_name": "Python 3"
    },
    "language_info": {
      "name": "python"
    }
  },
  "cells": [
    {
      "cell_type": "markdown",
      "metadata": {
        "id": "view-in-github",
        "colab_type": "text"
      },
      "source": [
        "<a href=\"https://colab.research.google.com/github/ThassiAmorim/Pdf2Excel/blob/main/Pdf2Excel.ipynb\" target=\"_parent\"><img src=\"https://colab.research.google.com/assets/colab-badge.svg\" alt=\"Open In Colab\"/></a>"
      ]
    },
    {
      "cell_type": "code",
      "execution_count": null,
      "metadata": {
        "id": "2DMetTC42MSX"
      },
      "outputs": [],
      "source": [
        "!pip install PyMuPDF openpyxl pytesseract pillow\n",
        "!apt install libtesseract-dev\n",
        "!sudo apt install tesseract-ocr\n",
        "!sudo apt-get install tesseract-ocr-por\n",
        "import fitz  # PyMuPDF\n",
        "import openpyxl\n",
        "import pytesseract\n",
        "from PIL import Image\n",
        "import os\n",
        "import cv2\n",
        "\n",
        "\n"
      ]
    },
    {
      "cell_type": "code",
      "source": [
        "# Montar o Google Drive\n",
        "from google.colab import drive\n",
        "drive.mount('/content/drive')\n",
        "\n",
        "# Caminho para o arquivo PDF\n",
        "caminho_pdf = '/content/drive/MyDrive/AutomatizaNotas/notas.pdf'"
      ],
      "metadata": {
        "id": "HYFuHOMtC_Iw"
      },
      "execution_count": null,
      "outputs": []
    },
    {
      "cell_type": "code",
      "source": [
        "from difflib import SequenceMatcher\n",
        "\n",
        "def similaridade(str1, str2):\n",
        "    # Inicializar o SequenceMatcher com duas strings\n",
        "    sequence_matcher = SequenceMatcher(None, str1, str2)\n",
        "\n",
        "    # Mapear a similaridade para uma escala de 0 a 10\n",
        "    score = round(sequence_matcher.ratio() * 10, 2)\n",
        "\n",
        "    return score\n",
        "\n",
        "# Função para extrair texto de uma imagem usando OCR\n",
        "def extract_text_from_image(image_path):\n",
        "    image = Image.open(image_path)\n",
        "    text = pytesseract.image_to_string(image)\n",
        "    print(text)\n",
        "    return text\n",
        "\n",
        "# Função para extrair e converter imagens em texto\n",
        "def fotos_para_texto(page):\n",
        "    text = \"\"\n",
        "    foto = page.get_images(full=True)\n",
        "\n",
        "    for img_index, img in enumerate(foto):\n",
        "        xref = img[0]\n",
        "        base_image = pdf_document.extract_image(xref)\n",
        "        image_bytes = base_image[\"image\"]\n",
        "\n",
        "        # Salvar a imagem em um arquivo temporário para que o pytesseract possa lê-la\n",
        "        temporario = f\"temp_image_{img_index}.png\"\n",
        "        with open(temporario, \"wb\") as image_file:\n",
        "            image_file.write(image_bytes)\n",
        "\n",
        "        # Usar pytesseract para converter a imagem em texto\n",
        "        extracted_text = pytesseract.image_to_string(temporario, lang='por')\n",
        "\n",
        "        # Adicionar o texto extraído à saída\n",
        "        text += f\"Imagem {img_index + 1} (Página {page_num + 1}):\\n{extracted_text}\\n\\n\"\n",
        "\n",
        "        # Remover o arquivo de imagem temporário\n",
        "        image_file.close()\n",
        "\n",
        "    return text\n",
        "\n",
        "# Função para extrair dados do texto\n",
        "def raspagem_dados(text):\n",
        "    lines = text.split('\\n') #[line.strip() for line in text.split('\\n')]\n",
        "    estabelecimento = \"\"\n",
        "    total = \"\"\n",
        "\n",
        "    for line in lines:\n",
        "        #print(f\"-------------{line}---------------------\")\n",
        "        if \"Estabelecimento:\" in line:\n",
        "            estabelecimento = line.split(\"Estabelecimento:\")[1].strip()\n",
        "            partes = estabelecimento.split(\"EF\", 1)\n",
        "            estabelecimento = partes[0]\n",
        "        if similaridade(\"VALOR TOTAL DA GUIA DE ENTREGA R$ \", line) > 6:\n",
        "             try:\n",
        "                # Tentar dividir a linha por \"R$\" ou \"RS\"\n",
        "                total = line.split(\"R$\")[1].strip()\n",
        "             except IndexError:\n",
        "                try:\n",
        "                    total = line.split(\"RS\")[1].strip()\n",
        "                except IndexError:\n",
        "                    # Se ocorrer um erro ao dividir a linha, atribuir 0 ao total\n",
        "                    total = 0\n",
        "             if total and (total[-1] == ']' or total[-1] == ')' or total[-1] == '|'):\n",
        "                total = total[:-1]\n",
        "\n",
        "             print(f\"---Estabelecimento:{estabelecimento} ----Total:{total}\")\n",
        "\n",
        "             return estabelecimento, total\n",
        "\n",
        "# Abrir o PDF com PyMuPDF\n",
        "pdf_document = fitz.open(caminho_pdf)\n",
        "\n",
        "# Modificar arquivo Excel\n",
        "excel_path = '/content/drive/MyDrive/AutomatizaNotas/extractions.xlsx'\n",
        "workbook = openpyxl.Workbook()\n",
        "worksheet = workbook.active\n",
        "worksheet.title = \"Extrações\"\n",
        "worksheet.append([\"estabelecimento\", \"total\"])\n",
        "\n",
        "# Extrair dados das imagens e adicionar à planilha Excel\n",
        "for page_num in range(pdf_document.page_count):\n",
        "    page = pdf_document[page_num]\n",
        "\n",
        "    estabelecimento, total = raspagem_dados(fotos_para_texto(page))\n",
        "    worksheet.append([estabelecimento, total])\n",
        "\n",
        "# Salvar o arquivo Excel\n",
        "workbook.save(excel_path)\n",
        "\n",
        "# Fechar o documento PDF\n",
        "#pdf_document.close()\n",
        "\n",
        "print(\"Extração e criação do Excel concluídas!\")"
      ],
      "metadata": {
        "id": "b_RyKAc83nNP"
      },
      "execution_count": null,
      "outputs": []
    }
  ]
}